{
 "cells": [
  {
   "cell_type": "markdown",
   "metadata": {},
   "source": [
    "# **Q1**"
   ]
  },
  {
   "cell_type": "code",
   "execution_count": null,
   "metadata": {},
   "outputs": [],
   "source": [
    "import json"
   ]
  },
  {
   "cell_type": "code",
   "execution_count": null,
   "metadata": {},
   "outputs": [],
   "source": [
    "# Create 100 file result.json not use looping\n",
    "def writeJSON(data, num_file = 1):\n",
    "    if num_file > 100:\n",
    "      return\n",
    "    with open(f'/result_q1/result_{num_file}.json', 'w') as f:\n",
    "        json.dump(data, f)\n",
    "    return writeJSON(data, num_file+1)"
   ]
  },
  {
   "cell_type": "code",
   "execution_count": null,
   "metadata": {},
   "outputs": [],
   "source": [
    "def def_word_cnt (sentence):\n",
    "    words = sentence.split()\n",
    "    result = []\n",
    "    sentence_splited = []\n",
    "    \n",
    "    for ele in words:\n",
    "        if ele not in sentence_splited:\n",
    "            sentence_splited.append(ele)\n",
    "            result.append([ele,1])\n",
    "        else:\n",
    "            for i in range(len(result)):\n",
    "                if result[i][0] == ele:\n",
    "                    result[i][1] += 1\n",
    "                    break\n",
    "    writeJSON(dict(result))"
   ]
  },
  {
   "cell_type": "code",
   "execution_count": null,
   "metadata": {},
   "outputs": [],
   "source": [
    "def_word_cnt(\"Hello world world hello World\")"
   ]
  },
  {
   "cell_type": "markdown",
   "metadata": {},
   "source": [
    "# **Q3**"
   ]
  },
  {
   "cell_type": "code",
   "execution_count": 11,
   "metadata": {},
   "outputs": [],
   "source": [
    "import pyodbc\n",
    "import json\n",
    "import datetime"
   ]
  },
  {
   "cell_type": "code",
   "execution_count": 33,
   "metadata": {},
   "outputs": [],
   "source": [
    "#Connect MSSQL Server\n",
    "conn = pyodbc.connect(\"Driver={SQL Server};\"\n",
    "                    \"Server=THIEN-BAO\\MSSQLSERVER2023;\"\n",
    "                    \"Database=Q3_Employee;\"\n",
    "                    \"Trusted_Connection=yes;\")\n",
    "# Create a cursor\n",
    "cur = conn.cursor()\n",
    "\n",
    "# Create table employees\n",
    "cur.execute(\"drop table if exists Q3_Employee.dbo.employees\").commit()\n",
    "\n",
    "cur.execute(\"CREATE TABLE employees (\\\n",
    "            id int not null primary key,\\\n",
    "            name nvarchar(50),\\\n",
    "            department nvarchar(50),\\\n",
    "            salary int,\\\n",
    "            join_date date)\")\n",
    "cur.commit()"
   ]
  },
  {
   "cell_type": "code",
   "execution_count": 34,
   "metadata": {},
   "outputs": [],
   "source": [
    "# Function to transform data\n",
    "def get_inf (json):\n",
    "    d = dict()\n",
    "    d['id'] = json.get('id')\n",
    "    d['name'] = json.get('name')\n",
    "    d['department'] = json.get('department')\n",
    "    d['salary'] = json.get('salary')\n",
    "    # date format: mm-dd-yyyy\n",
    "    d['join_date'] = datetime.datetime.strptime(json.get('join_date'),\"%Y-%m-%d\").strftime(\"%m-%d-%Y\")\n",
    "    return d\n"
   ]
  },
  {
   "cell_type": "code",
   "execution_count": 35,
   "metadata": {},
   "outputs": [
    {
     "name": "stdout",
     "output_type": "stream",
     "text": [
      "{'id': 1, 'name': 'John Doe', 'department': 'Marketing', 'salary': 50000, 'join_date': '01-01-2022'}\n",
      "{'id': 2, 'name': 'Jane Smith', 'department': 'Sales', 'salary': 60000, 'join_date': '05-15-2021'}\n",
      "{'id': 3, 'name': 'Mark Johnson', 'department': 'Finance', 'salary': 75000, 'join_date': '02-28-2023'}\n"
     ]
    }
   ],
   "source": [
    "# Read json\n",
    "with open('employees.json') as f:\n",
    "    d = json.load(f)\n",
    "    for i in d:\n",
    "        # Transform data\n",
    "        d_clear = get_inf(i)\n",
    "        # Load data to table employees in the MSSQL DB\n",
    "        cur.execute(f\"\"\"INSERT INTO employees VALUES ({d_clear['id']},'{d_clear['name']}','{d_clear['department']}',{d_clear['salary']},'{d_clear['join_date']}') \"\"\").commit()\n",
    "        print(d_clear)\n",
    "\n"
   ]
  },
  {
   "cell_type": "markdown",
   "metadata": {},
   "source": [
    "# **Q5**"
   ]
  },
  {
   "cell_type": "code",
   "execution_count": 9,
   "metadata": {},
   "outputs": [
    {
     "name": "stdout",
     "output_type": "stream",
     "text": [
      "Do a toy to play\n"
     ]
    }
   ],
   "source": [
    "import shutil\n"
   ]
  },
  {
   "cell_type": "code",
   "execution_count": null,
   "metadata": {},
   "outputs": [],
   "source": [
    "# import file text.txt inside LinuxProject folder\n",
    "shutil.move(r'.\\text.txt',r'.\\LinuxProject\\text.txt')"
   ]
  },
  {
   "cell_type": "code",
   "execution_count": null,
   "metadata": {},
   "outputs": [],
   "source": [
    "# Display the contents of text.txt on the terminal\n",
    "with open(r'.\\LinuxProject\\text.txt', 'r') as text:\n",
    "    print (text.read())\n",
    "text.close()\n"
   ]
  },
  {
   "cell_type": "code",
   "execution_count": null,
   "metadata": {},
   "outputs": [],
   "source": [
    "# Append \"Let's learn Linux.\" to text.txt\n",
    "with open(r'.\\LinuxProject\\text.txt', '+a') as text:\n",
    "    text.write(\"\\nLet's learn Linux.\")\n",
    "text.close\n"
   ]
  },
  {
   "cell_type": "code",
   "execution_count": null,
   "metadata": {},
   "outputs": [],
   "source": [
    "# Count the number lines in text.txt\n",
    "with open(r'.\\LinuxProject\\text.txt', 'r') as text:\n",
    "    lines = text.readlines()\n",
    "    print (len(lines))\n",
    "text.close()\n"
   ]
  },
  {
   "cell_type": "code",
   "execution_count": null,
   "metadata": {},
   "outputs": [],
   "source": [
    "# Search for the word \"Love\" in text.txt and display the lines containing it.\n",
    "with open(r'.\\LinuxProject\\text.txt', 'r') as text:\n",
    "    lines = text.readlines()\n",
    "    for line in lines:\n",
    "        if \"Love\" in line:\n",
    "            print(line)\n",
    "text.close()\n"
   ]
  },
  {
   "cell_type": "code",
   "execution_count": null,
   "metadata": {},
   "outputs": [],
   "source": [
    "# Replace \"Make\" with \"Do\".\n",
    "lines = []\n",
    "with open(r'.\\LinuxProject\\text.txt', 'r') as text:\n",
    "    lines = text.readlines()\n",
    "    for i in range(len(lines)):\n",
    "        if \"Make\" in lines[i]:\n",
    "            lines[i] = lines[i].replace('Make','Do')\n",
    "text.close()\n",
    "with open(r'.\\LinuxProject\\text.txt', 'w') as text:\n",
    "    for line in lines:\n",
    "        text.write(line)\n",
    "text.close()\n",
    "\n"
   ]
  },
  {
   "cell_type": "code",
   "execution_count": null,
   "metadata": {},
   "outputs": [],
   "source": [
    "# Display only the third word from each line in text.txt.\n",
    "with open(r'.\\LinuxProject\\text.txt', 'r') as text:\n",
    "    lines = text.readlines()\n",
    "    for line in lines:\n",
    "        words = line.split()\n",
    "        try:\n",
    "            print(words[2])\n",
    "        except:\n",
    "            print(\"No third word in this line\")"
   ]
  },
  {
   "cell_type": "code",
   "execution_count": null,
   "metadata": {},
   "outputs": [],
   "source": [
    "#Count the number of words in each line.\n",
    "with open(r'.\\LinuxProject\\text.txt', 'r') as text:\n",
    "    lines = text.readlines()\n",
    "    for i in range(len(lines)):\n",
    "        words = lines[i].split()\n",
    "        print(f\"Line {i+1} has {len(words)} words.\")\n",
    "        "
   ]
  }
 ],
 "metadata": {
  "kernelspec": {
   "display_name": "Python 3",
   "language": "python",
   "name": "python3"
  },
  "language_info": {
   "codemirror_mode": {
    "name": "ipython",
    "version": 3
   },
   "file_extension": ".py",
   "mimetype": "text/x-python",
   "name": "python",
   "nbconvert_exporter": "python",
   "pygments_lexer": "ipython3",
   "version": "3.10.0"
  }
 },
 "nbformat": 4,
 "nbformat_minor": 2
}
